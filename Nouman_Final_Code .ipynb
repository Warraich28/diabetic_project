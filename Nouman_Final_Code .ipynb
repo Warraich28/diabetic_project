{
  "nbformat": 4,
  "nbformat_minor": 0,
  "metadata": {
    "colab": {
      "provenance": []
    },
    "kernelspec": {
      "name": "python3",
      "display_name": "Python 3"
    },
    "language_info": {
      "name": "python"
    }
  },
  "cells": [
    {
      "cell_type": "code",
      "execution_count": null,
      "metadata": {
        "id": "AJLP5PBOXQx7",
        "colab": {
          "base_uri": "https://localhost:8080/"
        },
        "outputId": "7f1e5815-d0b9-4d3c-e33a-37b87656b1be"
      },
      "outputs": [
        {
          "output_type": "stream",
          "name": "stdout",
          "text": [
            "Mounted at /content/drive\n"
          ]
        }
      ],
      "source": [
        "# prompt: give me the code to connect with the google colab with drive\n",
        "\n",
        "from google.colab import drive\n",
        "drive.mount('/content/drive')"
      ]
    },
    {
      "cell_type": "code",
      "source": [],
      "metadata": {
        "id": "63-bVd29Xk46"
      },
      "execution_count": null,
      "outputs": []
    },
    {
      "cell_type": "code",
      "source": [
        "import pandas as pd\n",
        "\n",
        "# Load dataset\n",
        "file_path = '/content/drive/My Drive/diabetic_retinopathy.csv'\n",
        "data = pd.read_csv(file_path)"
      ],
      "metadata": {
        "id": "Ura23LWcXk7o"
      },
      "execution_count": null,
      "outputs": []
    },
    {
      "cell_type": "code",
      "source": [
        "# Display first few rows and data summary\n",
        "print(\"Dataset Preview:\")\n",
        "print(data.head())\n",
        "print(\"\\nData Summary:\")\n",
        "print(data.describe())"
      ],
      "metadata": {
        "id": "C5jsaiNhXk-0",
        "colab": {
          "base_uri": "https://localhost:8080/"
        },
        "outputId": "7b07b757-de0e-430f-8260-2408c8ce8a16"
      },
      "execution_count": null,
      "outputs": [
        {
          "output_type": "stream",
          "name": "stdout",
          "text": [
            "Dataset Preview:\n",
            "   quality  pre_screening  ma1  ma2  ma3  ma4  ma5  ma6   exudate1   exudate2  \\\n",
            "0        1              1   22   22   22   19   18   14  49.895756  17.775994   \n",
            "1        1              1   24   24   22   18   16   13  57.709936  23.799994   \n",
            "2        1              1   62   60   59   54   47   33  55.831441  27.993933   \n",
            "3        1              1   55   53   53   50   43   31  40.467228  18.445954   \n",
            "4        1              1   44   44   44   41   39   27  18.026254   8.570709   \n",
            "\n",
            "    exudate3  exudate3.1  exudate5  exudate6  exudate7  exudate8  \\\n",
            "0   5.270920    0.771761  0.018632  0.006864  0.003923  0.003923   \n",
            "1   3.325423    0.234185  0.003903  0.003903  0.003903  0.003903   \n",
            "2  12.687485    4.852282  1.393889  0.373252  0.041817  0.007744   \n",
            "3   9.118901    3.079428  0.840261  0.272434  0.007653  0.001531   \n",
            "4   0.410381    0.000000  0.000000  0.000000  0.000000  0.000000   \n",
            "\n",
            "   macula_opticdisc_distance  opticdisc_diameter  am_fm_classification  Class  \n",
            "0                   0.486903            0.100025                     1      0  \n",
            "1                   0.520908            0.144414                     0      0  \n",
            "2                   0.530904            0.128548                     0      1  \n",
            "3                   0.483284            0.114790                     0      0  \n",
            "4                   0.475935            0.123572                     0      1  \n",
            "\n",
            "Data Summary:\n",
            "           quality  pre_screening          ma1          ma2          ma3  \\\n",
            "count  1151.000000    1151.000000  1151.000000  1151.000000  1151.000000   \n",
            "mean      0.996525       0.918332    38.428323    36.909644    35.140747   \n",
            "std       0.058874       0.273977    25.620913    24.105612    22.805400   \n",
            "min       0.000000       0.000000     1.000000     1.000000     1.000000   \n",
            "25%       1.000000       1.000000    16.000000    16.000000    15.000000   \n",
            "50%       1.000000       1.000000    35.000000    35.000000    32.000000   \n",
            "75%       1.000000       1.000000    55.000000    53.000000    51.000000   \n",
            "max       1.000000       1.000000   151.000000   132.000000   120.000000   \n",
            "\n",
            "               ma4          ma5          ma6     exudate1     exudate2  \\\n",
            "count  1151.000000  1151.000000  1151.000000  1151.000000  1151.000000   \n",
            "mean     32.297133    28.747176    21.151173    64.096674    23.088012   \n",
            "std      21.114767    19.509227    15.101560    58.485289    21.602696   \n",
            "min       1.000000     1.000000     1.000000     0.349274     0.000000   \n",
            "25%      14.000000    11.000000     8.000000    22.271597     7.939315   \n",
            "50%      29.000000    25.000000    18.000000    44.249119    17.038020   \n",
            "75%      48.000000    43.000000    32.000000    87.804112    31.305692   \n",
            "max     105.000000    97.000000    89.000000   403.939108   167.131427   \n",
            "\n",
            "          exudate3   exudate3.1     exudate5     exudate6     exudate7  \\\n",
            "count  1151.000000  1151.000000  1151.000000  1151.000000  1151.000000   \n",
            "mean      8.704610     1.836489     0.560738     0.212290     0.085674   \n",
            "std      11.567589     3.923224     2.484111     1.057126     0.398717   \n",
            "min       0.000000     0.000000     0.000000     0.000000     0.000000   \n",
            "25%       1.249050     0.081554     0.000000     0.000000     0.000000   \n",
            "50%       4.423472     0.484829     0.022248     0.001554     0.000000   \n",
            "75%      11.766880     1.921648     0.191953     0.038450     0.004832   \n",
            "max     106.070092    59.766121    51.423208    20.098605     5.937799   \n",
            "\n",
            "          exudate8  macula_opticdisc_distance  opticdisc_diameter  \\\n",
            "count  1151.000000                1151.000000         1151.000000   \n",
            "mean      0.037225                   0.523212            0.108431   \n",
            "std       0.178959                   0.028055            0.017945   \n",
            "min       0.000000                   0.367762            0.057906   \n",
            "25%       0.000000                   0.502855            0.095799   \n",
            "50%       0.000000                   0.523308            0.106623   \n",
            "75%       0.003851                   0.543670            0.119591   \n",
            "max       3.086753                   0.592217            0.219199   \n",
            "\n",
            "       am_fm_classification        Class  \n",
            "count           1151.000000  1151.000000  \n",
            "mean               0.336229     0.530843  \n",
            "std                0.472624     0.499265  \n",
            "min                0.000000     0.000000  \n",
            "25%                0.000000     0.000000  \n",
            "50%                0.000000     1.000000  \n",
            "75%                1.000000     1.000000  \n",
            "max                1.000000     1.000000  \n"
          ]
        }
      ]
    },
    {
      "cell_type": "code",
      "source": [
        "data.head(7)"
      ],
      "metadata": {
        "colab": {
          "base_uri": "https://localhost:8080/",
          "height": 289
        },
        "id": "Q8XJ2AGoNQlA",
        "outputId": "328a78f5-b4ec-4d27-ed4d-3eed225282d4"
      },
      "execution_count": null,
      "outputs": [
        {
          "output_type": "execute_result",
          "data": {
            "text/plain": [
              "   quality  pre_screening  ma1  ma2  ma3  ma4  ma5  ma6   exudate1   exudate2  \\\n",
              "0        1              1   22   22   22   19   18   14  49.895756  17.775994   \n",
              "1        1              1   24   24   22   18   16   13  57.709936  23.799994   \n",
              "2        1              1   62   60   59   54   47   33  55.831441  27.993933   \n",
              "3        1              1   55   53   53   50   43   31  40.467228  18.445954   \n",
              "4        1              1   44   44   44   41   39   27  18.026254   8.570709   \n",
              "5        1              1   44   43   41   41   37   29  28.356400   6.935636   \n",
              "6        1              0   29   29   29   27   25   16  15.448398   9.113819   \n",
              "\n",
              "    exudate3  exudate3.1  exudate5  exudate6  exudate7  exudate8  \\\n",
              "0   5.270920    0.771761  0.018632  0.006864  0.003923  0.003923   \n",
              "1   3.325423    0.234185  0.003903  0.003903  0.003903  0.003903   \n",
              "2  12.687485    4.852282  1.393889  0.373252  0.041817  0.007744   \n",
              "3   9.118901    3.079428  0.840261  0.272434  0.007653  0.001531   \n",
              "4   0.410381    0.000000  0.000000  0.000000  0.000000  0.000000   \n",
              "5   2.305771    0.323724  0.000000  0.000000  0.000000  0.000000   \n",
              "6   1.633493    0.000000  0.000000  0.000000  0.000000  0.000000   \n",
              "\n",
              "   macula_opticdisc_distance  opticdisc_diameter  am_fm_classification  Class  \n",
              "0                   0.486903            0.100025                     1      0  \n",
              "1                   0.520908            0.144414                     0      0  \n",
              "2                   0.530904            0.128548                     0      1  \n",
              "3                   0.483284            0.114790                     0      0  \n",
              "4                   0.475935            0.123572                     0      1  \n",
              "5                   0.502831            0.126741                     0      1  \n",
              "6                   0.541743            0.139575                     0      1  "
            ],
            "text/html": [
              "\n",
              "  <div id=\"df-2a21b6bc-d38a-4e94-a520-07b294f20cb5\" class=\"colab-df-container\">\n",
              "    <div>\n",
              "<style scoped>\n",
              "    .dataframe tbody tr th:only-of-type {\n",
              "        vertical-align: middle;\n",
              "    }\n",
              "\n",
              "    .dataframe tbody tr th {\n",
              "        vertical-align: top;\n",
              "    }\n",
              "\n",
              "    .dataframe thead th {\n",
              "        text-align: right;\n",
              "    }\n",
              "</style>\n",
              "<table border=\"1\" class=\"dataframe\">\n",
              "  <thead>\n",
              "    <tr style=\"text-align: right;\">\n",
              "      <th></th>\n",
              "      <th>quality</th>\n",
              "      <th>pre_screening</th>\n",
              "      <th>ma1</th>\n",
              "      <th>ma2</th>\n",
              "      <th>ma3</th>\n",
              "      <th>ma4</th>\n",
              "      <th>ma5</th>\n",
              "      <th>ma6</th>\n",
              "      <th>exudate1</th>\n",
              "      <th>exudate2</th>\n",
              "      <th>exudate3</th>\n",
              "      <th>exudate3.1</th>\n",
              "      <th>exudate5</th>\n",
              "      <th>exudate6</th>\n",
              "      <th>exudate7</th>\n",
              "      <th>exudate8</th>\n",
              "      <th>macula_opticdisc_distance</th>\n",
              "      <th>opticdisc_diameter</th>\n",
              "      <th>am_fm_classification</th>\n",
              "      <th>Class</th>\n",
              "    </tr>\n",
              "  </thead>\n",
              "  <tbody>\n",
              "    <tr>\n",
              "      <th>0</th>\n",
              "      <td>1</td>\n",
              "      <td>1</td>\n",
              "      <td>22</td>\n",
              "      <td>22</td>\n",
              "      <td>22</td>\n",
              "      <td>19</td>\n",
              "      <td>18</td>\n",
              "      <td>14</td>\n",
              "      <td>49.895756</td>\n",
              "      <td>17.775994</td>\n",
              "      <td>5.270920</td>\n",
              "      <td>0.771761</td>\n",
              "      <td>0.018632</td>\n",
              "      <td>0.006864</td>\n",
              "      <td>0.003923</td>\n",
              "      <td>0.003923</td>\n",
              "      <td>0.486903</td>\n",
              "      <td>0.100025</td>\n",
              "      <td>1</td>\n",
              "      <td>0</td>\n",
              "    </tr>\n",
              "    <tr>\n",
              "      <th>1</th>\n",
              "      <td>1</td>\n",
              "      <td>1</td>\n",
              "      <td>24</td>\n",
              "      <td>24</td>\n",
              "      <td>22</td>\n",
              "      <td>18</td>\n",
              "      <td>16</td>\n",
              "      <td>13</td>\n",
              "      <td>57.709936</td>\n",
              "      <td>23.799994</td>\n",
              "      <td>3.325423</td>\n",
              "      <td>0.234185</td>\n",
              "      <td>0.003903</td>\n",
              "      <td>0.003903</td>\n",
              "      <td>0.003903</td>\n",
              "      <td>0.003903</td>\n",
              "      <td>0.520908</td>\n",
              "      <td>0.144414</td>\n",
              "      <td>0</td>\n",
              "      <td>0</td>\n",
              "    </tr>\n",
              "    <tr>\n",
              "      <th>2</th>\n",
              "      <td>1</td>\n",
              "      <td>1</td>\n",
              "      <td>62</td>\n",
              "      <td>60</td>\n",
              "      <td>59</td>\n",
              "      <td>54</td>\n",
              "      <td>47</td>\n",
              "      <td>33</td>\n",
              "      <td>55.831441</td>\n",
              "      <td>27.993933</td>\n",
              "      <td>12.687485</td>\n",
              "      <td>4.852282</td>\n",
              "      <td>1.393889</td>\n",
              "      <td>0.373252</td>\n",
              "      <td>0.041817</td>\n",
              "      <td>0.007744</td>\n",
              "      <td>0.530904</td>\n",
              "      <td>0.128548</td>\n",
              "      <td>0</td>\n",
              "      <td>1</td>\n",
              "    </tr>\n",
              "    <tr>\n",
              "      <th>3</th>\n",
              "      <td>1</td>\n",
              "      <td>1</td>\n",
              "      <td>55</td>\n",
              "      <td>53</td>\n",
              "      <td>53</td>\n",
              "      <td>50</td>\n",
              "      <td>43</td>\n",
              "      <td>31</td>\n",
              "      <td>40.467228</td>\n",
              "      <td>18.445954</td>\n",
              "      <td>9.118901</td>\n",
              "      <td>3.079428</td>\n",
              "      <td>0.840261</td>\n",
              "      <td>0.272434</td>\n",
              "      <td>0.007653</td>\n",
              "      <td>0.001531</td>\n",
              "      <td>0.483284</td>\n",
              "      <td>0.114790</td>\n",
              "      <td>0</td>\n",
              "      <td>0</td>\n",
              "    </tr>\n",
              "    <tr>\n",
              "      <th>4</th>\n",
              "      <td>1</td>\n",
              "      <td>1</td>\n",
              "      <td>44</td>\n",
              "      <td>44</td>\n",
              "      <td>44</td>\n",
              "      <td>41</td>\n",
              "      <td>39</td>\n",
              "      <td>27</td>\n",
              "      <td>18.026254</td>\n",
              "      <td>8.570709</td>\n",
              "      <td>0.410381</td>\n",
              "      <td>0.000000</td>\n",
              "      <td>0.000000</td>\n",
              "      <td>0.000000</td>\n",
              "      <td>0.000000</td>\n",
              "      <td>0.000000</td>\n",
              "      <td>0.475935</td>\n",
              "      <td>0.123572</td>\n",
              "      <td>0</td>\n",
              "      <td>1</td>\n",
              "    </tr>\n",
              "    <tr>\n",
              "      <th>5</th>\n",
              "      <td>1</td>\n",
              "      <td>1</td>\n",
              "      <td>44</td>\n",
              "      <td>43</td>\n",
              "      <td>41</td>\n",
              "      <td>41</td>\n",
              "      <td>37</td>\n",
              "      <td>29</td>\n",
              "      <td>28.356400</td>\n",
              "      <td>6.935636</td>\n",
              "      <td>2.305771</td>\n",
              "      <td>0.323724</td>\n",
              "      <td>0.000000</td>\n",
              "      <td>0.000000</td>\n",
              "      <td>0.000000</td>\n",
              "      <td>0.000000</td>\n",
              "      <td>0.502831</td>\n",
              "      <td>0.126741</td>\n",
              "      <td>0</td>\n",
              "      <td>1</td>\n",
              "    </tr>\n",
              "    <tr>\n",
              "      <th>6</th>\n",
              "      <td>1</td>\n",
              "      <td>0</td>\n",
              "      <td>29</td>\n",
              "      <td>29</td>\n",
              "      <td>29</td>\n",
              "      <td>27</td>\n",
              "      <td>25</td>\n",
              "      <td>16</td>\n",
              "      <td>15.448398</td>\n",
              "      <td>9.113819</td>\n",
              "      <td>1.633493</td>\n",
              "      <td>0.000000</td>\n",
              "      <td>0.000000</td>\n",
              "      <td>0.000000</td>\n",
              "      <td>0.000000</td>\n",
              "      <td>0.000000</td>\n",
              "      <td>0.541743</td>\n",
              "      <td>0.139575</td>\n",
              "      <td>0</td>\n",
              "      <td>1</td>\n",
              "    </tr>\n",
              "  </tbody>\n",
              "</table>\n",
              "</div>\n",
              "    <div class=\"colab-df-buttons\">\n",
              "\n",
              "  <div class=\"colab-df-container\">\n",
              "    <button class=\"colab-df-convert\" onclick=\"convertToInteractive('df-2a21b6bc-d38a-4e94-a520-07b294f20cb5')\"\n",
              "            title=\"Convert this dataframe to an interactive table.\"\n",
              "            style=\"display:none;\">\n",
              "\n",
              "  <svg xmlns=\"http://www.w3.org/2000/svg\" height=\"24px\" viewBox=\"0 -960 960 960\">\n",
              "    <path d=\"M120-120v-720h720v720H120Zm60-500h600v-160H180v160Zm220 220h160v-160H400v160Zm0 220h160v-160H400v160ZM180-400h160v-160H180v160Zm440 0h160v-160H620v160ZM180-180h160v-160H180v160Zm440 0h160v-160H620v160Z\"/>\n",
              "  </svg>\n",
              "    </button>\n",
              "\n",
              "  <style>\n",
              "    .colab-df-container {\n",
              "      display:flex;\n",
              "      gap: 12px;\n",
              "    }\n",
              "\n",
              "    .colab-df-convert {\n",
              "      background-color: #E8F0FE;\n",
              "      border: none;\n",
              "      border-radius: 50%;\n",
              "      cursor: pointer;\n",
              "      display: none;\n",
              "      fill: #1967D2;\n",
              "      height: 32px;\n",
              "      padding: 0 0 0 0;\n",
              "      width: 32px;\n",
              "    }\n",
              "\n",
              "    .colab-df-convert:hover {\n",
              "      background-color: #E2EBFA;\n",
              "      box-shadow: 0px 1px 2px rgba(60, 64, 67, 0.3), 0px 1px 3px 1px rgba(60, 64, 67, 0.15);\n",
              "      fill: #174EA6;\n",
              "    }\n",
              "\n",
              "    .colab-df-buttons div {\n",
              "      margin-bottom: 4px;\n",
              "    }\n",
              "\n",
              "    [theme=dark] .colab-df-convert {\n",
              "      background-color: #3B4455;\n",
              "      fill: #D2E3FC;\n",
              "    }\n",
              "\n",
              "    [theme=dark] .colab-df-convert:hover {\n",
              "      background-color: #434B5C;\n",
              "      box-shadow: 0px 1px 3px 1px rgba(0, 0, 0, 0.15);\n",
              "      filter: drop-shadow(0px 1px 2px rgba(0, 0, 0, 0.3));\n",
              "      fill: #FFFFFF;\n",
              "    }\n",
              "  </style>\n",
              "\n",
              "    <script>\n",
              "      const buttonEl =\n",
              "        document.querySelector('#df-2a21b6bc-d38a-4e94-a520-07b294f20cb5 button.colab-df-convert');\n",
              "      buttonEl.style.display =\n",
              "        google.colab.kernel.accessAllowed ? 'block' : 'none';\n",
              "\n",
              "      async function convertToInteractive(key) {\n",
              "        const element = document.querySelector('#df-2a21b6bc-d38a-4e94-a520-07b294f20cb5');\n",
              "        const dataTable =\n",
              "          await google.colab.kernel.invokeFunction('convertToInteractive',\n",
              "                                                    [key], {});\n",
              "        if (!dataTable) return;\n",
              "\n",
              "        const docLinkHtml = 'Like what you see? Visit the ' +\n",
              "          '<a target=\"_blank\" href=https://colab.research.google.com/notebooks/data_table.ipynb>data table notebook</a>'\n",
              "          + ' to learn more about interactive tables.';\n",
              "        element.innerHTML = '';\n",
              "        dataTable['output_type'] = 'display_data';\n",
              "        await google.colab.output.renderOutput(dataTable, element);\n",
              "        const docLink = document.createElement('div');\n",
              "        docLink.innerHTML = docLinkHtml;\n",
              "        element.appendChild(docLink);\n",
              "      }\n",
              "    </script>\n",
              "  </div>\n",
              "\n",
              "\n",
              "<div id=\"df-a78ca4f4-2883-4da7-b3eb-72dcaac377e8\">\n",
              "  <button class=\"colab-df-quickchart\" onclick=\"quickchart('df-a78ca4f4-2883-4da7-b3eb-72dcaac377e8')\"\n",
              "            title=\"Suggest charts\"\n",
              "            style=\"display:none;\">\n",
              "\n",
              "<svg xmlns=\"http://www.w3.org/2000/svg\" height=\"24px\"viewBox=\"0 0 24 24\"\n",
              "     width=\"24px\">\n",
              "    <g>\n",
              "        <path d=\"M19 3H5c-1.1 0-2 .9-2 2v14c0 1.1.9 2 2 2h14c1.1 0 2-.9 2-2V5c0-1.1-.9-2-2-2zM9 17H7v-7h2v7zm4 0h-2V7h2v10zm4 0h-2v-4h2v4z\"/>\n",
              "    </g>\n",
              "</svg>\n",
              "  </button>\n",
              "\n",
              "<style>\n",
              "  .colab-df-quickchart {\n",
              "      --bg-color: #E8F0FE;\n",
              "      --fill-color: #1967D2;\n",
              "      --hover-bg-color: #E2EBFA;\n",
              "      --hover-fill-color: #174EA6;\n",
              "      --disabled-fill-color: #AAA;\n",
              "      --disabled-bg-color: #DDD;\n",
              "  }\n",
              "\n",
              "  [theme=dark] .colab-df-quickchart {\n",
              "      --bg-color: #3B4455;\n",
              "      --fill-color: #D2E3FC;\n",
              "      --hover-bg-color: #434B5C;\n",
              "      --hover-fill-color: #FFFFFF;\n",
              "      --disabled-bg-color: #3B4455;\n",
              "      --disabled-fill-color: #666;\n",
              "  }\n",
              "\n",
              "  .colab-df-quickchart {\n",
              "    background-color: var(--bg-color);\n",
              "    border: none;\n",
              "    border-radius: 50%;\n",
              "    cursor: pointer;\n",
              "    display: none;\n",
              "    fill: var(--fill-color);\n",
              "    height: 32px;\n",
              "    padding: 0;\n",
              "    width: 32px;\n",
              "  }\n",
              "\n",
              "  .colab-df-quickchart:hover {\n",
              "    background-color: var(--hover-bg-color);\n",
              "    box-shadow: 0 1px 2px rgba(60, 64, 67, 0.3), 0 1px 3px 1px rgba(60, 64, 67, 0.15);\n",
              "    fill: var(--button-hover-fill-color);\n",
              "  }\n",
              "\n",
              "  .colab-df-quickchart-complete:disabled,\n",
              "  .colab-df-quickchart-complete:disabled:hover {\n",
              "    background-color: var(--disabled-bg-color);\n",
              "    fill: var(--disabled-fill-color);\n",
              "    box-shadow: none;\n",
              "  }\n",
              "\n",
              "  .colab-df-spinner {\n",
              "    border: 2px solid var(--fill-color);\n",
              "    border-color: transparent;\n",
              "    border-bottom-color: var(--fill-color);\n",
              "    animation:\n",
              "      spin 1s steps(1) infinite;\n",
              "  }\n",
              "\n",
              "  @keyframes spin {\n",
              "    0% {\n",
              "      border-color: transparent;\n",
              "      border-bottom-color: var(--fill-color);\n",
              "      border-left-color: var(--fill-color);\n",
              "    }\n",
              "    20% {\n",
              "      border-color: transparent;\n",
              "      border-left-color: var(--fill-color);\n",
              "      border-top-color: var(--fill-color);\n",
              "    }\n",
              "    30% {\n",
              "      border-color: transparent;\n",
              "      border-left-color: var(--fill-color);\n",
              "      border-top-color: var(--fill-color);\n",
              "      border-right-color: var(--fill-color);\n",
              "    }\n",
              "    40% {\n",
              "      border-color: transparent;\n",
              "      border-right-color: var(--fill-color);\n",
              "      border-top-color: var(--fill-color);\n",
              "    }\n",
              "    60% {\n",
              "      border-color: transparent;\n",
              "      border-right-color: var(--fill-color);\n",
              "    }\n",
              "    80% {\n",
              "      border-color: transparent;\n",
              "      border-right-color: var(--fill-color);\n",
              "      border-bottom-color: var(--fill-color);\n",
              "    }\n",
              "    90% {\n",
              "      border-color: transparent;\n",
              "      border-bottom-color: var(--fill-color);\n",
              "    }\n",
              "  }\n",
              "</style>\n",
              "\n",
              "  <script>\n",
              "    async function quickchart(key) {\n",
              "      const quickchartButtonEl =\n",
              "        document.querySelector('#' + key + ' button');\n",
              "      quickchartButtonEl.disabled = true;  // To prevent multiple clicks.\n",
              "      quickchartButtonEl.classList.add('colab-df-spinner');\n",
              "      try {\n",
              "        const charts = await google.colab.kernel.invokeFunction(\n",
              "            'suggestCharts', [key], {});\n",
              "      } catch (error) {\n",
              "        console.error('Error during call to suggestCharts:', error);\n",
              "      }\n",
              "      quickchartButtonEl.classList.remove('colab-df-spinner');\n",
              "      quickchartButtonEl.classList.add('colab-df-quickchart-complete');\n",
              "    }\n",
              "    (() => {\n",
              "      let quickchartButtonEl =\n",
              "        document.querySelector('#df-a78ca4f4-2883-4da7-b3eb-72dcaac377e8 button');\n",
              "      quickchartButtonEl.style.display =\n",
              "        google.colab.kernel.accessAllowed ? 'block' : 'none';\n",
              "    })();\n",
              "  </script>\n",
              "</div>\n",
              "\n",
              "    </div>\n",
              "  </div>\n"
            ],
            "application/vnd.google.colaboratory.intrinsic+json": {
              "type": "dataframe",
              "variable_name": "data",
              "summary": "{\n  \"name\": \"data\",\n  \"rows\": 1151,\n  \"fields\": [\n    {\n      \"column\": \"quality\",\n      \"properties\": {\n        \"dtype\": \"number\",\n        \"std\": 0,\n        \"min\": 0,\n        \"max\": 1,\n        \"num_unique_values\": 2,\n        \"samples\": [\n          0,\n          1\n        ],\n        \"semantic_type\": \"\",\n        \"description\": \"\"\n      }\n    },\n    {\n      \"column\": \"pre_screening\",\n      \"properties\": {\n        \"dtype\": \"number\",\n        \"std\": 0,\n        \"min\": 0,\n        \"max\": 1,\n        \"num_unique_values\": 2,\n        \"samples\": [\n          0,\n          1\n        ],\n        \"semantic_type\": \"\",\n        \"description\": \"\"\n      }\n    },\n    {\n      \"column\": \"ma1\",\n      \"properties\": {\n        \"dtype\": \"number\",\n        \"std\": 25,\n        \"min\": 1,\n        \"max\": 151,\n        \"num_unique_values\": 110,\n        \"samples\": [\n          93,\n          70\n        ],\n        \"semantic_type\": \"\",\n        \"description\": \"\"\n      }\n    },\n    {\n      \"column\": \"ma2\",\n      \"properties\": {\n        \"dtype\": \"number\",\n        \"std\": 24,\n        \"min\": 1,\n        \"max\": 132,\n        \"num_unique_values\": 104,\n        \"samples\": [\n          68,\n          76\n        ],\n        \"semantic_type\": \"\",\n        \"description\": \"\"\n      }\n    },\n    {\n      \"column\": \"ma3\",\n      \"properties\": {\n        \"dtype\": \"number\",\n        \"std\": 22,\n        \"min\": 1,\n        \"max\": 120,\n        \"num_unique_values\": 99,\n        \"samples\": [\n          1,\n          14\n        ],\n        \"semantic_type\": \"\",\n        \"description\": \"\"\n      }\n    },\n    {\n      \"column\": \"ma4\",\n      \"properties\": {\n        \"dtype\": \"number\",\n        \"std\": 21,\n        \"min\": 1,\n        \"max\": 105,\n        \"num_unique_values\": 91,\n        \"samples\": [\n          21,\n          47\n        ],\n        \"semantic_type\": \"\",\n        \"description\": \"\"\n      }\n    },\n    {\n      \"column\": \"ma5\",\n      \"properties\": {\n        \"dtype\": \"number\",\n        \"std\": 19,\n        \"min\": 1,\n        \"max\": 97,\n        \"num_unique_values\": 84,\n        \"samples\": [\n          82,\n          18\n        ],\n        \"semantic_type\": \"\",\n        \"description\": \"\"\n      }\n    },\n    {\n      \"column\": \"ma6\",\n      \"properties\": {\n        \"dtype\": \"number\",\n        \"std\": 15,\n        \"min\": 1,\n        \"max\": 89,\n        \"num_unique_values\": 69,\n        \"samples\": [\n          3,\n          14\n        ],\n        \"semantic_type\": \"\",\n        \"description\": \"\"\n      }\n    },\n    {\n      \"column\": \"exudate1\",\n      \"properties\": {\n        \"dtype\": \"number\",\n        \"std\": 58.485289269594155,\n        \"min\": 0.349274,\n        \"max\": 403.939108,\n        \"num_unique_values\": 1141,\n        \"samples\": [\n          142.490452,\n          232.191751\n        ],\n        \"semantic_type\": \"\",\n        \"description\": \"\"\n      }\n    },\n    {\n      \"column\": \"exudate2\",\n      \"properties\": {\n        \"dtype\": \"number\",\n        \"std\": 21.602695648532062,\n        \"min\": 0.0,\n        \"max\": 167.131427,\n        \"num_unique_values\": 1141,\n        \"samples\": [\n          29.989125,\n          24.433967\n        ],\n        \"semantic_type\": \"\",\n        \"description\": \"\"\n      }\n    },\n    {\n      \"column\": \"exudate3\",\n      \"properties\": {\n        \"dtype\": \"number\",\n        \"std\": 11.567589443913004,\n        \"min\": 0.0,\n        \"max\": 106.070092,\n        \"num_unique_values\": 1130,\n        \"samples\": [\n          22.668862,\n          1.491181\n        ],\n        \"semantic_type\": \"\",\n        \"description\": \"\"\n      }\n    },\n    {\n      \"column\": \"exudate3.1\",\n      \"properties\": {\n        \"dtype\": \"number\",\n        \"std\": 3.9232236068738393,\n        \"min\": 0.0,\n        \"max\": 59.766121,\n        \"num_unique_values\": 1032,\n        \"samples\": [\n          0.287858,\n          11.184719\n        ],\n        \"semantic_type\": \"\",\n        \"description\": \"\"\n      }\n    },\n    {\n      \"column\": \"exudate5\",\n      \"properties\": {\n        \"dtype\": \"number\",\n        \"std\": 2.484111244928341,\n        \"min\": 0.0,\n        \"max\": 51.423208,\n        \"num_unique_values\": 795,\n        \"samples\": [\n          12.584615,\n          0.004914\n        ],\n        \"semantic_type\": \"\",\n        \"description\": \"\"\n      }\n    },\n    {\n      \"column\": \"exudate6\",\n      \"properties\": {\n        \"dtype\": \"number\",\n        \"std\": 1.0571257409448054,\n        \"min\": 0.0,\n        \"max\": 20.098605,\n        \"num_unique_values\": 579,\n        \"samples\": [\n          0.122441,\n          0.651529\n        ],\n        \"semantic_type\": \"\",\n        \"description\": \"\"\n      }\n    },\n    {\n      \"column\": \"exudate7\",\n      \"properties\": {\n        \"dtype\": \"number\",\n        \"std\": 0.39871727480263564,\n        \"min\": 0.0,\n        \"max\": 5.937799,\n        \"num_unique_values\": 415,\n        \"samples\": [\n          0.003899,\n          0.00202\n        ],\n        \"semantic_type\": \"\",\n        \"description\": \"\"\n      }\n    },\n    {\n      \"column\": \"exudate8\",\n      \"properties\": {\n        \"dtype\": \"number\",\n        \"std\": 0.1789589329019155,\n        \"min\": 0.0,\n        \"max\": 3.086753,\n        \"num_unique_values\": 351,\n        \"samples\": [\n          0.194427,\n          0.294038\n        ],\n        \"semantic_type\": \"\",\n        \"description\": \"\"\n      }\n    },\n    {\n      \"column\": \"macula_opticdisc_distance\",\n      \"properties\": {\n        \"dtype\": \"number\",\n        \"std\": 0.028055354262537087,\n        \"min\": 0.367762,\n        \"max\": 0.592217,\n        \"num_unique_values\": 1132,\n        \"samples\": [\n          0.552436,\n          0.51257\n        ],\n        \"semantic_type\": \"\",\n        \"description\": \"\"\n      }\n    },\n    {\n      \"column\": \"opticdisc_diameter\",\n      \"properties\": {\n        \"dtype\": \"number\",\n        \"std\": 0.017944849481152145,\n        \"min\": 0.057906,\n        \"max\": 0.219199,\n        \"num_unique_values\": 1110,\n        \"samples\": [\n          0.094281,\n          0.087906\n        ],\n        \"semantic_type\": \"\",\n        \"description\": \"\"\n      }\n    },\n    {\n      \"column\": \"am_fm_classification\",\n      \"properties\": {\n        \"dtype\": \"number\",\n        \"std\": 0,\n        \"min\": 0,\n        \"max\": 1,\n        \"num_unique_values\": 2,\n        \"samples\": [\n          0,\n          1\n        ],\n        \"semantic_type\": \"\",\n        \"description\": \"\"\n      }\n    },\n    {\n      \"column\": \"Class\",\n      \"properties\": {\n        \"dtype\": \"number\",\n        \"std\": 0,\n        \"min\": 0,\n        \"max\": 1,\n        \"num_unique_values\": 2,\n        \"samples\": [\n          1,\n          0\n        ],\n        \"semantic_type\": \"\",\n        \"description\": \"\"\n      }\n    }\n  ]\n}"
            }
          },
          "metadata": {},
          "execution_count": 4
        }
      ]
    },
    {
      "cell_type": "code",
      "source": [],
      "metadata": {
        "id": "XrJk22eDNQnt"
      },
      "execution_count": null,
      "outputs": []
    },
    {
      "cell_type": "code",
      "source": [
        "# Data Preprocessing: Handle missing values and normalize continuous features\n",
        "# Check for missing values\n",
        "print(\"\\nMissing Values per Column:\")\n",
        "print(data.isnull().sum())"
      ],
      "metadata": {
        "colab": {
          "base_uri": "https://localhost:8080/"
        },
        "id": "--XWk7VMNQq5",
        "outputId": "ede30300-b405-4a0e-bdbd-7d84d6820392"
      },
      "execution_count": null,
      "outputs": [
        {
          "output_type": "stream",
          "name": "stdout",
          "text": [
            "\n",
            "Missing Values per Column:\n",
            "quality                      0\n",
            "pre_screening                0\n",
            "ma1                          0\n",
            "ma2                          0\n",
            "ma3                          0\n",
            "ma4                          0\n",
            "ma5                          0\n",
            "ma6                          0\n",
            "exudate1                     0\n",
            "exudate2                     0\n",
            "exudate3                     0\n",
            "exudate3.1                   0\n",
            "exudate5                     0\n",
            "exudate6                     0\n",
            "exudate7                     0\n",
            "exudate8                     0\n",
            "macula_opticdisc_distance    0\n",
            "opticdisc_diameter           0\n",
            "am_fm_classification         0\n",
            "Class                        0\n",
            "dtype: int64\n"
          ]
        }
      ]
    },
    {
      "cell_type": "code",
      "source": [],
      "metadata": {
        "id": "Oev2u34GNQtX"
      },
      "execution_count": null,
      "outputs": []
    },
    {
      "cell_type": "code",
      "source": [
        "from sklearn.preprocessing import StandardScaler\n",
        "\n",
        "# Normalizing continuous features\n",
        "continuous_features = [\n",
        "    'exudate1', 'exudate2', 'exudate3', 'exudate5',\n",
        "    'exudate6', 'exudate7', 'exudate8', 'macula_opticdisc_distance', 'opticdisc_diameter'\n",
        "]\n",
        "scaler = StandardScaler()\n",
        "data[continuous_features] = scaler.fit_transform(data[continuous_features])"
      ],
      "metadata": {
        "id": "3BNQjp2AN9eH"
      },
      "execution_count": null,
      "outputs": []
    },
    {
      "cell_type": "code",
      "source": [],
      "metadata": {
        "id": "NP8LgfS_N9hM"
      },
      "execution_count": null,
      "outputs": []
    },
    {
      "cell_type": "code",
      "source": [
        "from sklearn.model_selection import train_test_split, GridSearchCV\n",
        "\n",
        "# Split dataset into features and target\n",
        "X = data.drop(columns=['Class'])\n",
        "y = data['Class']\n",
        "\n",
        "# Train-test split\n",
        "X_train, X_test, y_train, y_test = train_test_split(X, y, test_size=0.1, random_state=42)"
      ],
      "metadata": {
        "id": "c79BUWqLN9j7"
      },
      "execution_count": null,
      "outputs": []
    },
    {
      "cell_type": "code",
      "source": [],
      "metadata": {
        "id": "Qfg1o2mfN9m-"
      },
      "execution_count": null,
      "outputs": []
    },
    {
      "cell_type": "code",
      "source": [
        "import numpy as np\n",
        "import matplotlib.pyplot as plt\n",
        "import seaborn as sns\n",
        "\n",
        "\n",
        "# Exploratory Data Analysis (EDA)\n",
        "plt.figure(figsize=(10, 6))\n",
        "sns.countplot(x='Class', data=data, palette='Set2')\n",
        "plt.title(\"Class Distribution in Diabetic Retinopathy Dataset\")\n",
        "plt.show()\n"
      ],
      "metadata": {
        "colab": {
          "base_uri": "https://localhost:8080/",
          "height": 673
        },
        "id": "0o2hZZnkN9qC",
        "outputId": "20a702d0-3743-4e39-fc0b-0693b638f45a"
      },
      "execution_count": null,
      "outputs": [
        {
          "output_type": "stream",
          "name": "stderr",
          "text": [
            "<ipython-input-10-66b0f3c5d716>:8: FutureWarning: \n",
            "\n",
            "Passing `palette` without assigning `hue` is deprecated and will be removed in v0.14.0. Assign the `x` variable to `hue` and set `legend=False` for the same effect.\n",
            "\n",
            "  sns.countplot(x='Class', data=data, palette='Set2')\n"
          ]
        },
        {
          "output_type": "display_data",
          "data": {
            "text/plain": [
              "<Figure size 1000x600 with 1 Axes>"
            ],
            "image/png": "[encoded data removed]"
          },
          "metadata": {}
        }
      ]
    },
    {
      "cell_type": "code",
      "source": [
        "# Heatmap of correlations\n",
        "plt.figure(figsize=(14, 10))\n",
        "sns.heatmap(data.corr(), annot=False, cmap='coolwarm', linewidths=0.5)\n",
        "plt.title(\"Correlation Heatmap\")\n",
        "plt.show()"
      ],
      "metadata": {
        "colab": {
          "base_uri": "https://localhost:8080/",
          "height": 1000
        },
        "id": "PXK_E5P1N9vc",
        "outputId": "5baaa701-ee55-4200-8e1a-c9e1c5379972"
      },
      "execution_count": null,
      "outputs": [
        {
          "output_type": "display_data",
          "data": {
            "text/plain": [
              "<Figure size 1400x1000 with 2 Axes>"
            ],
            "image/png": "[encoded data removed]"
          },
          "metadata": {}
        }
      ]
    },
    {
      "cell_type": "code",
      "source": [
        "# Feature Importance with Random Forest\n",
        "from sklearn.ensemble import RandomForestClassifier\n",
        "\n",
        "# Feature Importance with Random Forest\n",
        "rf_model = RandomForestClassifier(random_state=42)\n",
        "rf_model.fit(X_train, y_train)\n",
        "\n",
        "# Plot feature importance\n",
        "feature_importances = rf_model.feature_importances_\n",
        "importance_df = pd.DataFrame({'Feature': X.columns, 'Importance': feature_importances})\n",
        "importance_df = importance_df.sort_values(by='Importance', ascending=False)\n",
        "\n",
        "plt.figure(figsize=(12, 8))\n",
        "sns.barplot(x='Importance', y='Feature', data=importance_df)\n",
        "plt.title('Feature Importance from Random Forest')\n",
        "plt.show()"
      ],
      "metadata": {
        "colab": {
          "base_uri": "https://localhost:8080/",
          "height": 680
        },
        "id": "zN8ifFXRN9yI",
        "outputId": "17fb74f9-50a3-4b81-9c2a-3110514fe361"
      },
      "execution_count": null,
      "outputs": [
        {
          "output_type": "display_data",
          "data": {
            "text/plain": [
              "<Figure size 1200x800 with 1 Axes>"
            ],
            "image/png": "[encoded data removed]"
          },
          "metadata": {}
        }
      ]
    },
    {
      "cell_type": "code",
      "source": [
        "# Select top N features based on importance\n",
        "top_features = importance_df[importance_df['Importance'] > 0.02]['Feature'].tolist()  # Customize threshold\n",
        "X_train_selected = X_train[top_features]\n",
        "X_test_selected = X_test[top_features]"
      ],
      "metadata": {
        "id": "poWzQZx-U1zI"
      },
      "execution_count": null,
      "outputs": []
    },
    {
      "cell_type": "code",
      "source": [],
      "metadata": {
        "id": "LueR_dOTU11l"
      },
      "execution_count": null,
      "outputs": []
    },
    {
      "cell_type": "code",
      "source": [],
      "metadata": {
        "id": "uFEKcCcPOhvC"
      },
      "execution_count": null,
      "outputs": []
    },
    {
      "cell_type": "code",
      "source": [
        "# Model Training\n",
        "\n",
        "from sklearn.svm import SVC\n",
        "from sklearn.metrics import accuracy_score, precision_score, recall_score, f1_score, roc_auc_score, classification_report\n",
        "\n",
        "\n",
        "# Support Vector Machine (SVM)\n",
        "svm_model = SVC(probability=True, random_state=42)\n",
        "svm_model.fit(X_train_selected, y_train)\n",
        "y_pred_svm = svm_model.predict(X_test_selected)"
      ],
      "metadata": {
        "id": "gYpSTdhNOhx4"
      },
      "execution_count": null,
      "outputs": []
    },
    {
      "cell_type": "code",
      "source": [
        "# Model Evaluation Function\n",
        "def evaluate_model(name, y_test, y_pred):\n",
        "    print(f\"Evaluation Metrics for {name}:\")\n",
        "    print(\"Accuracy:\", accuracy_score(y_test, y_pred))\n",
        "    print(\"Precision:\", precision_score(y_test, y_pred))\n",
        "    print(\"Recall:\", recall_score(y_test, y_pred))\n",
        "    print(\"F1 Score:\", f1_score(y_test, y_pred))\n",
        "    print(\"ROC-AUC:\", roc_auc_score(y_test, y_pred))\n",
        "    print(\"\\nClassification Report:\\n\", classification_report(y_test, y_pred))\n",
        "    print(\"---------------------------------------------------\")\n",
        "\n",
        "# Evaluate all models\n",
        "evaluate_model(\"SVM\", y_test, y_pred_svm)"
      ],
      "metadata": {
        "colab": {
          "base_uri": "https://localhost:8080/"
        },
        "id": "J8WXiEedOh0j",
        "outputId": "47a7cb9a-8e22-4200-a1fb-d00ccce5d083"
      },
      "execution_count": null,
      "outputs": [
        {
          "output_type": "stream",
          "name": "stdout",
          "text": [
            "Evaluation Metrics for SVM:\n",
            "Accuracy: 0.6379310344827587\n",
            "Precision: 0.7555555555555555\n",
            "Recall: 0.5230769230769231\n",
            "F1 Score: 0.6181818181818182\n",
            "ROC-AUC: 0.6536953242835596\n",
            "\n",
            "Classification Report:\n",
            "               precision    recall  f1-score   support\n",
            "\n",
            "           0       0.56      0.78      0.66        51\n",
            "           1       0.76      0.52      0.62        65\n",
            "\n",
            "    accuracy                           0.64       116\n",
            "   macro avg       0.66      0.65      0.64       116\n",
            "weighted avg       0.67      0.64      0.63       116\n",
            "\n",
            "---------------------------------------------------\n"
          ]
        }
      ]
    },
    {
      "cell_type": "code",
      "source": [],
      "metadata": {
        "id": "PHR1dHBAOh3f"
      },
      "execution_count": null,
      "outputs": []
    },
    {
      "cell_type": "code",
      "source": [
        "from sklearn.naive_bayes import GaussianNB\n",
        "\n",
        "# Naïve Bayes\n",
        "nb_model = GaussianNB()\n",
        "nb_model.fit(X_train_selected, y_train)\n",
        "y_pred_nb = nb_model.predict(X_test_selected)\n",
        "\n",
        "\n",
        "evaluate_model(\"Naïve Bayes\", y_test, y_pred_nb)"
      ],
      "metadata": {
        "colab": {
          "base_uri": "https://localhost:8080/"
        },
        "id": "kXPABkFpOh6d",
        "outputId": "1523eba4-25cd-4394-d75f-b5066106cb51"
      },
      "execution_count": null,
      "outputs": [
        {
          "output_type": "stream",
          "name": "stdout",
          "text": [
            "Evaluation Metrics for Naïve Bayes:\n",
            "Accuracy: 0.49137931034482757\n",
            "Precision: 0.6875\n",
            "Recall: 0.16923076923076924\n",
            "F1 Score: 0.2716049382716049\n",
            "ROC-AUC: 0.5355957767722473\n",
            "\n",
            "Classification Report:\n",
            "               precision    recall  f1-score   support\n",
            "\n",
            "           0       0.46      0.90      0.61        51\n",
            "           1       0.69      0.17      0.27        65\n",
            "\n",
            "    accuracy                           0.49       116\n",
            "   macro avg       0.57      0.54      0.44       116\n",
            "weighted avg       0.59      0.49      0.42       116\n",
            "\n",
            "---------------------------------------------------\n"
          ]
        }
      ]
    },
    {
      "cell_type": "code",
      "source": [],
      "metadata": {
        "id": "7uYplZ4hOh9K"
      },
      "execution_count": null,
      "outputs": []
    },
    {
      "cell_type": "code",
      "source": [
        "from sklearn.ensemble import RandomForestClassifier, VotingClassifier\n",
        "\n",
        "# Random Forest\n",
        "rf_model = RandomForestClassifier(random_state=42)\n",
        "rf_model.fit(X_train_selected, y_train)\n",
        "y_pred_rf = rf_model.predict(X_test_selected)\n",
        "\n",
        "evaluate_model(\"Random Forest\", y_test, y_pred_rf)"
      ],
      "metadata": {
        "colab": {
          "base_uri": "https://localhost:8080/"
        },
        "id": "jruh4oxmO9Yh",
        "outputId": "76c915a4-c7ed-46bc-9c25-5634f77a0713"
      },
      "execution_count": null,
      "outputs": [
        {
          "output_type": "stream",
          "name": "stdout",
          "text": [
            "Evaluation Metrics for Random Forest:\n",
            "Accuracy: 0.7241379310344828\n",
            "Precision: 0.7619047619047619\n",
            "Recall: 0.7384615384615385\n",
            "F1 Score: 0.75\n",
            "ROC-AUC: 0.7221719457013573\n",
            "\n",
            "Classification Report:\n",
            "               precision    recall  f1-score   support\n",
            "\n",
            "           0       0.68      0.71      0.69        51\n",
            "           1       0.76      0.74      0.75        65\n",
            "\n",
            "    accuracy                           0.72       116\n",
            "   macro avg       0.72      0.72      0.72       116\n",
            "weighted avg       0.73      0.72      0.72       116\n",
            "\n",
            "---------------------------------------------------\n"
          ]
        }
      ]
    },
    {
      "cell_type": "code",
      "source": [
        "from sklearn.linear_model import LogisticRegression\n",
        "\n",
        "# Logistic Regression\n",
        "lr_model = LogisticRegression(random_state=42, max_iter=1000)\n",
        "lr_model.fit(X_train_selected, y_train)\n",
        "y_pred_lr = lr_model.predict(X_test_selected)\n",
        "\n",
        "evaluate_model(\"Logistic Regression\", y_test, y_pred_lr)"
      ],
      "metadata": {
        "colab": {
          "base_uri": "https://localhost:8080/"
        },
        "id": "PvWwlXaCO9bN",
        "outputId": "3aebb69e-bc51-4955-bbd7-a7fe1ac5480a"
      },
      "execution_count": null,
      "outputs": [
        {
          "output_type": "stream",
          "name": "stdout",
          "text": [
            "Evaluation Metrics for Logistic Regression:\n",
            "Accuracy: 0.7586206896551724\n",
            "Precision: 0.8363636363636363\n",
            "Recall: 0.7076923076923077\n",
            "F1 Score: 0.7666666666666667\n",
            "ROC-AUC: 0.7656108597285068\n",
            "\n",
            "Classification Report:\n",
            "               precision    recall  f1-score   support\n",
            "\n",
            "           0       0.69      0.82      0.75        51\n",
            "           1       0.84      0.71      0.77        65\n",
            "\n",
            "    accuracy                           0.76       116\n",
            "   macro avg       0.76      0.77      0.76       116\n",
            "weighted avg       0.77      0.76      0.76       116\n",
            "\n",
            "---------------------------------------------------\n"
          ]
        }
      ]
    },
    {
      "cell_type": "code",
      "source": [],
      "metadata": {
        "id": "c18MRYU6O9eE"
      },
      "execution_count": null,
      "outputs": []
    },
    {
      "cell_type": "code",
      "source": [],
      "metadata": {
        "id": "rLzSY2rcPdbD"
      },
      "execution_count": null,
      "outputs": []
    },
    {
      "cell_type": "code",
      "source": [
        "# Hyperparameter Tuning for Random Forest (as an example)\n",
        "param_grid = {\n",
        "    'n_estimators': [300, 400, 500],\n",
        "    'max_depth': [None, 10, 20, 30],\n",
        "    'min_samples_split': [2, 5, 10]\n",
        "}\n",
        "grid_search = GridSearchCV(rf_model, param_grid, cv=3, scoring='accuracy')\n",
        "grid_search.fit(X_train_selected, y_train)\n",
        "best_rf_model = grid_search.best_estimator_\n",
        "y_pred_best_rf = best_rf_model.predict(X_test_selected)\n",
        "print(\"Best Parameters for Random Forest:\", grid_search.best_params_)\n",
        "\n",
        "evaluate_model(\"Best Random Forest (Tuned)\", y_test, y_pred_best_rf)"
      ],
      "metadata": {
        "colab": {
          "base_uri": "https://localhost:8080/"
        },
        "id": "4LQKcQkfPddh",
        "outputId": "af95e3f2-f029-4eb7-ca05-81a57cc78f91"
      },
      "execution_count": null,
      "outputs": [
        {
          "output_type": "stream",
          "name": "stdout",
          "text": [
            "Best Parameters for Random Forest: {'max_depth': 10, 'min_samples_split': 5, 'n_estimators': 300}\n",
            "Evaluation Metrics for Best Random Forest (Tuned):\n",
            "Accuracy: 0.7241379310344828\n",
            "Precision: 0.7796610169491526\n",
            "Recall: 0.7076923076923077\n",
            "F1 Score: 0.7419354838709677\n",
            "ROC-AUC: 0.7263951734539971\n",
            "\n",
            "Classification Report:\n",
            "               precision    recall  f1-score   support\n",
            "\n",
            "           0       0.67      0.75      0.70        51\n",
            "           1       0.78      0.71      0.74        65\n",
            "\n",
            "    accuracy                           0.72       116\n",
            "   macro avg       0.72      0.73      0.72       116\n",
            "weighted avg       0.73      0.72      0.73       116\n",
            "\n",
            "---------------------------------------------------\n"
          ]
        }
      ]
    },
    {
      "cell_type": "code",
      "source": [],
      "metadata": {
        "id": "TJfsalkuO9gn"
      },
      "execution_count": null,
      "outputs": []
    },
    {
      "cell_type": "code",
      "source": [
        "from sklearn.ensemble import RandomForestClassifier, VotingClassifier\n",
        "\n",
        "# Hybrid Model: Voting Classifier (Ensemble of SVM, Naïve Bayes, Random Forest, and Logistic Regression)\n",
        "hybrid_model = VotingClassifier(\n",
        "    estimators=[\n",
        "        ('rf', best_rf_model),\n",
        "        ('lr', lr_model)\n",
        "    ],\n",
        "    voting='soft'\n",
        ")\n",
        "hybrid_model.fit(X_train_selected, y_train)\n",
        "y_pred_hybrid = hybrid_model.predict(X_test_selected)\n",
        "\n",
        "\n",
        "evaluate_model(\"Hybrid Voting Classifier\", y_test, y_pred_hybrid)"
      ],
      "metadata": {
        "id": "G0biYcpvNQv6",
        "colab": {
          "base_uri": "https://localhost:8080/"
        },
        "outputId": "eed37742-7936-43be-dc23-a1646a5ca9b6"
      },
      "execution_count": null,
      "outputs": [
        {
          "output_type": "stream",
          "name": "stdout",
          "text": [
            "Evaluation Metrics for Hybrid Voting Classifier:\n",
            "Accuracy: 0.75\n",
            "Precision: 0.8103448275862069\n",
            "Recall: 0.7230769230769231\n",
            "F1 Score: 0.7642276422764228\n",
            "ROC-AUC: 0.7536953242835596\n",
            "\n",
            "Classification Report:\n",
            "               precision    recall  f1-score   support\n",
            "\n",
            "           0       0.69      0.78      0.73        51\n",
            "           1       0.81      0.72      0.76        65\n",
            "\n",
            "    accuracy                           0.75       116\n",
            "   macro avg       0.75      0.75      0.75       116\n",
            "weighted avg       0.76      0.75      0.75       116\n",
            "\n",
            "---------------------------------------------------\n"
          ]
        }
      ]
    }
  ]
}