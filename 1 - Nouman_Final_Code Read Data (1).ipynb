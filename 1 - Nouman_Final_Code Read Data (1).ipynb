{
  "nbformat": 4,
  "nbformat_minor": 0,
  "metadata": {
    "colab": {
      "provenance": []
    },
    "kernelspec": {
      "name": "python3",
      "display_name": "Python 3"
    },
    "language_info": {
      "name": "python"
    }
  },
  "cells": [
    {
      "cell_type": "code",
      "execution_count": 1,
      "metadata": {
        "id": "AJLP5PBOXQx7",
        "colab": {
          "base_uri": "https://localhost:8080/"
        },
        "outputId": "6214f354-2b9c-424f-bdfa-286bb5498ce3"
      },
      "outputs": [
        {
          "output_type": "stream",
          "name": "stdout",
          "text": [
            "Mounted at /content/drive\n"
          ]
        }
      ],
      "source": [
        "# prompt: give me the code to connect with the google colab with drive\n",
        "\n",
        "from google.colab import drive\n",
        "drive.mount('/content/drive')"
      ]
    },
    {
      "cell_type": "code",
      "source": [],
      "metadata": {
        "id": "63-bVd29Xk46"
      },
      "execution_count": null,
      "outputs": []
    },
    {
      "cell_type": "code",
      "source": [
        "import pandas as pd\n",
        "\n",
        "# Load dataset\n",
        "file_path = '/content/drive/My Drive/diabetic_retinopathy.csv'\n",
        "data = pd.read_csv(file_path)"
      ],
      "metadata": {
        "id": "Ura23LWcXk7o"
      },
      "execution_count": 2,
      "outputs": []
    },
    {
      "cell_type": "code",
      "source": [
        "# Display first few rows and data summary\n",
        "print(\"Dataset Preview:\")\n",
        "print(data.head())\n",
        "print(\"\\nData Summary:\")\n",
        "print(data.describe())"
      ],
      "metadata": {
        "id": "C5jsaiNhXk-0",
        "colab": {
          "base_uri": "https://localhost:8080/"
        },
        "outputId": "27b531cb-7469-4c5b-ed72-8686ab62342b"
      },
      "execution_count": 3,
      "outputs": [
        {
          "output_type": "stream",
          "name": "stdout",
          "text": [
            "Dataset Preview:\n",
            "   quality  pre_screening  ma1  ma2  ma3  ma4  ma5  ma6   exudate1   exudate2  \\\n",
            "0        1              1   22   22   22   19   18   14  49.895756  17.775994   \n",
            "1        1              1   24   24   22   18   16   13  57.709936  23.799994   \n",
            "2        1              1   62   60   59   54   47   33  55.831441  27.993933   \n",
            "3        1              1   55   53   53   50   43   31  40.467228  18.445954   \n",
            "4        1              1   44   44   44   41   39   27  18.026254   8.570709   \n",
            "\n",
            "    exudate3  exudate3.1  exudate5  exudate6  exudate7  exudate8  \\\n",
            "0   5.270920    0.771761  0.018632  0.006864  0.003923  0.003923   \n",
            "1   3.325423    0.234185  0.003903  0.003903  0.003903  0.003903   \n",
            "2  12.687485    4.852282  1.393889  0.373252  0.041817  0.007744   \n",
            "3   9.118901    3.079428  0.840261  0.272434  0.007653  0.001531   \n",
            "4   0.410381    0.000000  0.000000  0.000000  0.000000  0.000000   \n",
            "\n",
            "   macula_opticdisc_distance  opticdisc_diameter  am_fm_classification  Class  \n",
            "0                   0.486903            0.100025                     1      0  \n",
            "1                   0.520908            0.144414                     0      0  \n",
            "2                   0.530904            0.128548                     0      1  \n",
            "3                   0.483284            0.114790                     0      0  \n",
            "4                   0.475935            0.123572                     0      1  \n",
            "\n",
            "Data Summary:\n",
            "           quality  pre_screening          ma1          ma2          ma3  \\\n",
            "count  1151.000000    1151.000000  1151.000000  1151.000000  1151.000000   \n",
            "mean      0.996525       0.918332    38.428323    36.909644    35.140747   \n",
            "std       0.058874       0.273977    25.620913    24.105612    22.805400   \n",
            "min       0.000000       0.000000     1.000000     1.000000     1.000000   \n",
            "25%       1.000000       1.000000    16.000000    16.000000    15.000000   \n",
            "50%       1.000000       1.000000    35.000000    35.000000    32.000000   \n",
            "75%       1.000000       1.000000    55.000000    53.000000    51.000000   \n",
            "max       1.000000       1.000000   151.000000   132.000000   120.000000   \n",
            "\n",
            "               ma4          ma5          ma6     exudate1     exudate2  \\\n",
            "count  1151.000000  1151.000000  1151.000000  1151.000000  1151.000000   \n",
            "mean     32.297133    28.747176    21.151173    64.096674    23.088012   \n",
            "std      21.114767    19.509227    15.101560    58.485289    21.602696   \n",
            "min       1.000000     1.000000     1.000000     0.349274     0.000000   \n",
            "25%      14.000000    11.000000     8.000000    22.271597     7.939315   \n",
            "50%      29.000000    25.000000    18.000000    44.249119    17.038020   \n",
            "75%      48.000000    43.000000    32.000000    87.804112    31.305692   \n",
            "max     105.000000    97.000000    89.000000   403.939108   167.131427   \n",
            "\n",
            "          exudate3   exudate3.1     exudate5     exudate6     exudate7  \\\n",
            "count  1151.000000  1151.000000  1151.000000  1151.000000  1151.000000   \n",
            "mean      8.704610     1.836489     0.560738     0.212290     0.085674   \n",
            "std      11.567589     3.923224     2.484111     1.057126     0.398717   \n",
            "min       0.000000     0.000000     0.000000     0.000000     0.000000   \n",
            "25%       1.249050     0.081554     0.000000     0.000000     0.000000   \n",
            "50%       4.423472     0.484829     0.022248     0.001554     0.000000   \n",
            "75%      11.766880     1.921648     0.191953     0.038450     0.004832   \n",
            "max     106.070092    59.766121    51.423208    20.098605     5.937799   \n",
            "\n",
            "          exudate8  macula_opticdisc_distance  opticdisc_diameter  \\\n",
            "count  1151.000000                1151.000000         1151.000000   \n",
            "mean      0.037225                   0.523212            0.108431   \n",
            "std       0.178959                   0.028055            0.017945   \n",
            "min       0.000000                   0.367762            0.057906   \n",
            "25%       0.000000                   0.502855            0.095799   \n",
            "50%       0.000000                   0.523308            0.106623   \n",
            "75%       0.003851                   0.543670            0.119591   \n",
            "max       3.086753                   0.592217            0.219199   \n",
            "\n",
            "       am_fm_classification        Class  \n",
            "count           1151.000000  1151.000000  \n",
            "mean               0.336229     0.530843  \n",
            "std                0.472624     0.499265  \n",
            "min                0.000000     0.000000  \n",
            "25%                0.000000     0.000000  \n",
            "50%                0.000000     1.000000  \n",
            "75%                1.000000     1.000000  \n",
            "max                1.000000     1.000000  \n"
          ]
        }
      ]
    },
    {
      "cell_type": "code",
      "source": [],
      "metadata": {
        "id": "Q8XJ2AGoNQlA"
      },
      "execution_count": null,
      "outputs": []
    },
    {
      "cell_type": "code",
      "source": [],
      "metadata": {
        "id": "XrJk22eDNQnt"
      },
      "execution_count": null,
      "outputs": []
    },
    {
      "cell_type": "code",
      "source": [],
      "metadata": {
        "id": "--XWk7VMNQq5"
      },
      "execution_count": null,
      "outputs": []
    },
    {
      "cell_type": "code",
      "source": [],
      "metadata": {
        "id": "Oev2u34GNQtX"
      },
      "execution_count": null,
      "outputs": []
    },
    {
      "cell_type": "code",
      "source": [],
      "metadata": {
        "id": "G0biYcpvNQv6"
      },
      "execution_count": null,
      "outputs": []
    }
  ]
}